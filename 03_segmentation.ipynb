{
 "cells": [
  {
   "cell_type": "markdown",
   "id": "b38888c1",
   "metadata": {},
   "source": [
    "# Segmentation"
   ]
  },
  {
   "cell_type": "code",
   "execution_count": 2,
   "id": "5eea25b6",
   "metadata": {},
   "outputs": [],
   "source": [
    "import os\n",
    "import json\n",
    "from pathlib import Path"
   ]
  },
  {
   "cell_type": "code",
   "execution_count": 3,
   "id": "99bceba8",
   "metadata": {},
   "outputs": [],
   "source": [
    "from src.dataset import SeaTurtleDataset, download_dataset\n",
    "# from src.arcface import ArcFace\n",
    "from src.utils import get_device"
   ]
  },
  {
   "cell_type": "code",
   "execution_count": 4,
   "id": "74e454d8",
   "metadata": {},
   "outputs": [
    {
     "name": "stdout",
     "output_type": "stream",
     "text": [
      "Dataset downloaded and extracted to: /Users/nhut/.cache/kagglehub/datasets/wildlifedatasets/seaturtleid2022/versions/4\n"
     ]
    },
    {
     "data": {
      "text/plain": [
       "{'path': '/Users/nhut/.cache/kagglehub/datasets/wildlifedatasets/seaturtleid2022/versions/4',\n",
       " 'images_path': '/Users/nhut/.cache/kagglehub/datasets/wildlifedatasets/seaturtleid2022/versions/4/turtles-data/data',\n",
       " 'annotations_path': '/Users/nhut/.cache/kagglehub/datasets/wildlifedatasets/seaturtleid2022/versions/4/turtles-data/data/annotations.json',\n",
       " 'metadata': '/Users/nhut/.cache/kagglehub/datasets/wildlifedatasets/seaturtleid2022/versions/4/turtles-data/data/metadata.csv',\n",
       " 'metadata_splits': '/Users/nhut/.cache/kagglehub/datasets/wildlifedatasets/seaturtleid2022/versions/4/turtles-data/data/metadata_splits.csv'}"
      ]
     },
     "execution_count": 4,
     "metadata": {},
     "output_type": "execute_result"
    }
   ],
   "source": [
    "paths = download_dataset()\n",
    "paths"
   ]
  },
  {
   "cell_type": "code",
   "execution_count": null,
   "id": "8e94a656",
   "metadata": {},
   "outputs": [
    {
     "name": "stdout",
     "output_type": "stream",
     "text": [
      "Images: 620\n",
      "Annotations: 2591\n",
      "Categories: [{'id': 1, 'name': 'turtle', 'supercategory': ''}, {'id': 2, 'name': 'flipper', 'supercategory': ''}, {'id': 3, 'name': 'head', 'supercategory': ''}]\n"
     ]
    },
    {
     "data": {
      "text/plain": [
       "dict_keys(['licenses', 'info', 'categories', 'images', 'annotations'])"
      ]
     },
     "metadata": {},
     "output_type": "display_data"
    },
    {
     "data": {
      "text/plain": [
       "{'id': 448,\n",
       " 'width': 2000,\n",
       " 'height': 1500,\n",
       " 'file_name': 'images/t023/AKOFtQyjtX.JPG',\n",
       " 'license': 0,\n",
       " 'flickr_url': '',\n",
       " 'coco_url': '',\n",
       " 'date_captured': 0,\n",
       " 'timestamp': '2011:07:30 13:49:47',\n",
       " 'identity': 't023'}"
      ]
     },
     "metadata": {},
     "output_type": "display_data"
    },
    {
     "data": {
      "text/plain": [
       "dict_keys(['id', 'image_id', 'category_id', 'segmentation', 'area', 'bbox', 'iscrowd', 'attributes'])"
      ]
     },
     "metadata": {},
     "output_type": "display_data"
    }
   ],
   "source": [
    "# original annotations file\n",
    "# annotations_path = paths[\"annotations_path\"]\n",
    "\n",
    "# sub-dataset annotations file\n",
    "annotations_path = \"./data/seaturtleid2022-subset/annotations.json\"\n",
    "\n",
    "with open(annotations_path, \"r\") as f:\n",
    "    coco = json.load(f)\n",
    "\n",
    "print(\"Images:\", len(coco[\"images\"]))\n",
    "print(\"Annotations:\", len(coco[\"annotations\"]))\n",
    "print(\"Categories:\", coco[\"categories\"])\n",
    "\n",
    "display(coco.keys())\n",
    "display(coco['images'][0])\n",
    "display(coco['annotations'][0].keys())"
   ]
  }
 ],
 "metadata": {
  "kernelspec": {
   "display_name": "dl",
   "language": "python",
   "name": "python3"
  },
  "language_info": {
   "codemirror_mode": {
    "name": "ipython",
    "version": 3
   },
   "file_extension": ".py",
   "mimetype": "text/x-python",
   "name": "python",
   "nbconvert_exporter": "python",
   "pygments_lexer": "ipython3",
   "version": "3.13.9"
  }
 },
 "nbformat": 4,
 "nbformat_minor": 5
}
