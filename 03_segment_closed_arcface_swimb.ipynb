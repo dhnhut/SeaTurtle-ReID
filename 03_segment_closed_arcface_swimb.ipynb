{
 "cells": [
  {
   "cell_type": "markdown",
   "id": "d7fe4985",
   "metadata": {},
   "source": [
    "# Body parts\n",
    "\n",
    "- Loss function: ArcFace\n",
    "- SwimB\n",
    "- closed set\n",
    "- Segmentation\n",
    "  - Body (shell)\n",
    "  - Flipper\n",
    "  - Head"
   ]
  },
  {
   "cell_type": "code",
   "execution_count": 1,
   "id": "0367ce6d",
   "metadata": {},
   "outputs": [],
   "source": [
    "import os\n",
    "from pathlib import Path"
   ]
  },
  {
   "cell_type": "code",
   "execution_count": 2,
   "id": "66673ff8",
   "metadata": {},
   "outputs": [],
   "source": [
    "from src.dataset import download_dataset\n",
    "from src.utils import get_device\n",
    "from src.pipeline import TurtleReIdPipeline"
   ]
  },
  {
   "cell_type": "code",
   "execution_count": 3,
   "id": "dc86ef8b",
   "metadata": {},
   "outputs": [
    {
     "name": "stdout",
     "output_type": "stream",
     "text": [
      "Dataset downloaded and extracted to: /Users/nhut/.cache/kagglehub/datasets/wildlifedatasets/seaturtleid2022/versions/4\n"
     ]
    }
   ],
   "source": [
    "# --- Pipeline parameters ---\n",
    "device = get_device()\n",
    "EMBEDDING_SIZE = 512\n",
    "\n",
    "\n",
    "# --- Transform parameters ---\n",
    "IMG_SIZE = 224\n",
    "\n",
    "\n",
    "# --- Datasets parameters ---\n",
    "DATA_DIR = './data/seaturtleid2022-subset'\n",
    "train_csv_path = os.path.join(DATA_DIR, \"metadata_closed_set_splits_train.csv\")\n",
    "eval_csv_path = os.path.join(DATA_DIR, \"metadata_closed_set_splits_valid.csv\")\n",
    "test_csv_path = os.path.join(DATA_DIR, \"metadata_closed_set_splits_test.csv\")\n",
    "datasets_paths = {\n",
    "    'train_csv_path': train_csv_path,\n",
    "    'eval_csv_path': eval_csv_path,\n",
    "    'test_csv_path': test_csv_path,\n",
    "}\n",
    "\n",
    "paths = download_dataset()\n",
    "img_dir=paths['images_path']\n",
    "\n",
    "annotations_path= f\"{DATA_DIR}/annotations.json\"\n",
    "\n",
    "\n",
    "# --- Training parameters ---\n",
    "BATCH_SIZE = 10\n",
    "LEARNING_RATE = 1e-4\n",
    "EPOCHS = 10\n",
    "\n",
    "model_dir = './models'\n",
    "Path(model_dir).mkdir(parents=True, exist_ok=True)\n",
    "\n",
    "\n",
    "train_configs = {\n",
    "    'batch_size': BATCH_SIZE,\n",
    "    'learning_rate': LEARNING_RATE,\n",
    "    'epochs': EPOCHS,\n",
    "    # 'model_save_path': model_save_path,\n",
    "    'k': 1\n",
    "}"
   ]
  },
  {
   "cell_type": "code",
   "execution_count": 4,
   "id": "313cb824",
   "metadata": {},
   "outputs": [
    {
     "name": "stdout",
     "output_type": "stream",
     "text": [
      "loading annotations into memory...\n",
      "Done (t=0.16s)\n",
      "creating index...\n",
      "index created!\n",
      "loading annotations into memory...\n",
      "Done (t=0.16s)\n",
      "creating index...\n",
      "index created!\n",
      "loading annotations into memory...\n",
      "Done (t=0.16s)\n",
      "creating index...\n",
      "index created!\n"
     ]
    }
   ],
   "source": [
    "pipeline = TurtleReIdPipeline(device, EMBEDDING_SIZE)\n",
    "pipeline.set_transforms(IMG_SIZE)\n",
    "pipeline.set_datasets(datasets_paths, img_dir, annotations_path)"
   ]
  },
  {
   "cell_type": "markdown",
   "id": "1d837dca",
   "metadata": {},
   "source": [
    "### Body (without background)"
   ]
  },
  {
   "cell_type": "code",
   "execution_count": 5,
   "id": "21071799",
   "metadata": {},
   "outputs": [
    {
     "data": {
      "application/vnd.jupyter.widget-view+json": {
       "model_id": "1de8f9bac18f452a849fc23cd1c22c51",
       "version_major": 2,
       "version_minor": 0
      },
      "text/plain": [
       "Epoch 1/10:   0%|          | 0/21 [00:00<?, ?it/s]"
      ]
     },
     "metadata": {},
     "output_type": "display_data"
    },
    {
     "name": "stdout",
     "output_type": "stream",
     "text": [
      "Epoch 1/10, Loss: 17.0266, Eval Accuracy: 39.02%\n",
      "Saved best model.\n"
     ]
    },
    {
     "data": {
      "application/vnd.jupyter.widget-view+json": {
       "model_id": "e9884de1df5a498c9fe9fbbec619e7cd",
       "version_major": 2,
       "version_minor": 0
      },
      "text/plain": [
       "Epoch 2/10:   0%|          | 0/21 [00:00<?, ?it/s]"
      ]
     },
     "metadata": {},
     "output_type": "display_data"
    },
    {
     "name": "stdout",
     "output_type": "stream",
     "text": [
      "Epoch 2/10, Loss: 14.9556, Eval Accuracy: 45.12%\n",
      "Saved best model.\n"
     ]
    },
    {
     "data": {
      "application/vnd.jupyter.widget-view+json": {
       "model_id": "cacc79c3361e4394b9d9878a47b1fa07",
       "version_major": 2,
       "version_minor": 0
      },
      "text/plain": [
       "Epoch 3/10:   0%|          | 0/21 [00:00<?, ?it/s]"
      ]
     },
     "metadata": {},
     "output_type": "display_data"
    },
    {
     "name": "stdout",
     "output_type": "stream",
     "text": [
      "Epoch 3/10, Loss: 11.7084, Eval Accuracy: 54.88%\n",
      "Saved best model.\n"
     ]
    },
    {
     "data": {
      "application/vnd.jupyter.widget-view+json": {
       "model_id": "ceb6a196cfc54929b9813d84187dd282",
       "version_major": 2,
       "version_minor": 0
      },
      "text/plain": [
       "Epoch 4/10:   0%|          | 0/21 [00:00<?, ?it/s]"
      ]
     },
     "metadata": {},
     "output_type": "display_data"
    },
    {
     "name": "stdout",
     "output_type": "stream",
     "text": [
      "Epoch 4/10, Loss: 8.9153, Eval Accuracy: 46.34%\n"
     ]
    },
    {
     "data": {
      "application/vnd.jupyter.widget-view+json": {
       "model_id": "510562b39a10440fa6524e004d1f7c8a",
       "version_major": 2,
       "version_minor": 0
      },
      "text/plain": [
       "Epoch 5/10:   0%|          | 0/21 [00:00<?, ?it/s]"
      ]
     },
     "metadata": {},
     "output_type": "display_data"
    },
    {
     "name": "stdout",
     "output_type": "stream",
     "text": [
      "Epoch 5/10, Loss: 6.5136, Eval Accuracy: 53.66%\n"
     ]
    },
    {
     "data": {
      "application/vnd.jupyter.widget-view+json": {
       "model_id": "f494552ea2844bda9ccb2b399b106d19",
       "version_major": 2,
       "version_minor": 0
      },
      "text/plain": [
       "Epoch 6/10:   0%|          | 0/21 [00:00<?, ?it/s]"
      ]
     },
     "metadata": {},
     "output_type": "display_data"
    },
    {
     "name": "stdout",
     "output_type": "stream",
     "text": [
      "Epoch 6/10, Loss: 3.7466, Eval Accuracy: 60.98%\n",
      "Saved best model.\n"
     ]
    },
    {
     "data": {
      "application/vnd.jupyter.widget-view+json": {
       "model_id": "862ea0b0948e422facd48e0e8a4df05f",
       "version_major": 2,
       "version_minor": 0
      },
      "text/plain": [
       "Epoch 7/10:   0%|          | 0/21 [00:00<?, ?it/s]"
      ]
     },
     "metadata": {},
     "output_type": "display_data"
    },
    {
     "name": "stdout",
     "output_type": "stream",
     "text": [
      "Epoch 7/10, Loss: 2.5774, Eval Accuracy: 48.78%\n"
     ]
    },
    {
     "data": {
      "application/vnd.jupyter.widget-view+json": {
       "model_id": "351a58b26ae14955a222eafeb1791920",
       "version_major": 2,
       "version_minor": 0
      },
      "text/plain": [
       "Epoch 8/10:   0%|          | 0/21 [00:00<?, ?it/s]"
      ]
     },
     "metadata": {},
     "output_type": "display_data"
    },
    {
     "name": "stdout",
     "output_type": "stream",
     "text": [
      "Epoch 8/10, Loss: 1.8072, Eval Accuracy: 59.76%\n"
     ]
    },
    {
     "data": {
      "application/vnd.jupyter.widget-view+json": {
       "model_id": "e09cf65756ca46b6852defd32d4c0792",
       "version_major": 2,
       "version_minor": 0
      },
      "text/plain": [
       "Epoch 9/10:   0%|          | 0/21 [00:00<?, ?it/s]"
      ]
     },
     "metadata": {},
     "output_type": "display_data"
    },
    {
     "name": "stdout",
     "output_type": "stream",
     "text": [
      "Epoch 9/10, Loss: 1.2980, Eval Accuracy: 62.20%\n",
      "Saved best model.\n"
     ]
    },
    {
     "data": {
      "application/vnd.jupyter.widget-view+json": {
       "model_id": "3e6731564201427089d7bac000b2cdba",
       "version_major": 2,
       "version_minor": 0
      },
      "text/plain": [
       "Epoch 10/10:   0%|          | 0/21 [00:00<?, ?it/s]"
      ]
     },
     "metadata": {},
     "output_type": "display_data"
    },
    {
     "name": "stdout",
     "output_type": "stream",
     "text": [
      "Epoch 10/10, Loss: 0.9597, Eval Accuracy: 60.98%\n",
      "Finished Training. Best Test Accuracy: 62.20%\n"
     ]
    }
   ],
   "source": [
    "# --- Training Loop BODY ---\n",
    "body_configs = train_configs.copy()\n",
    "model_save_path = f'{model_dir}/03_body_closed_arcface_swin_b.pth'\n",
    "body_configs['model_save_path'] = model_save_path\n",
    "body_configs['target_part'] = 'body'  # body only\n",
    "pipeline.train(body_configs)"
   ]
  },
  {
   "cell_type": "code",
   "execution_count": 6,
   "id": "6943f086",
   "metadata": {},
   "outputs": [
    {
     "data": {
      "application/vnd.jupyter.widget-view+json": {
       "model_id": "ce21a0710d01431fb4d3336f9f4c67fc",
       "version_major": 2,
       "version_minor": 0
      },
      "text/plain": [
       "Epoch 1/10:   0%|          | 0/21 [00:00<?, ?it/s]"
      ]
     },
     "metadata": {},
     "output_type": "display_data"
    },
    {
     "name": "stdout",
     "output_type": "stream",
     "text": [
      "Epoch 1/10, Loss: 16.6581, Eval Accuracy: 36.59%\n",
      "Saved best model.\n"
     ]
    },
    {
     "data": {
      "application/vnd.jupyter.widget-view+json": {
       "model_id": "59dbe253fa5645f0ac62eed1f8848761",
       "version_major": 2,
       "version_minor": 0
      },
      "text/plain": [
       "Epoch 2/10:   0%|          | 0/21 [00:00<?, ?it/s]"
      ]
     },
     "metadata": {},
     "output_type": "display_data"
    },
    {
     "name": "stdout",
     "output_type": "stream",
     "text": [
      "Epoch 2/10, Loss: 14.7693, Eval Accuracy: 36.59%\n"
     ]
    },
    {
     "data": {
      "application/vnd.jupyter.widget-view+json": {
       "model_id": "198d61f5263040a8b675b2c30e3d20b2",
       "version_major": 2,
       "version_minor": 0
      },
      "text/plain": [
       "Epoch 3/10:   0%|          | 0/21 [00:00<?, ?it/s]"
      ]
     },
     "metadata": {},
     "output_type": "display_data"
    },
    {
     "name": "stdout",
     "output_type": "stream",
     "text": [
      "Epoch 3/10, Loss: 13.0704, Eval Accuracy: 36.59%\n"
     ]
    },
    {
     "data": {
      "application/vnd.jupyter.widget-view+json": {
       "model_id": "10b9f19abd9b4305a5c712d36b4a54c3",
       "version_major": 2,
       "version_minor": 0
      },
      "text/plain": [
       "Epoch 4/10:   0%|          | 0/21 [00:00<?, ?it/s]"
      ]
     },
     "metadata": {},
     "output_type": "display_data"
    },
    {
     "name": "stdout",
     "output_type": "stream",
     "text": [
      "Epoch 4/10, Loss: 10.1849, Eval Accuracy: 45.12%\n",
      "Saved best model.\n"
     ]
    },
    {
     "data": {
      "application/vnd.jupyter.widget-view+json": {
       "model_id": "723f1baf91924c2cb42acbd27b1aa6f7",
       "version_major": 2,
       "version_minor": 0
      },
      "text/plain": [
       "Epoch 5/10:   0%|          | 0/21 [00:00<?, ?it/s]"
      ]
     },
     "metadata": {},
     "output_type": "display_data"
    },
    {
     "name": "stdout",
     "output_type": "stream",
     "text": [
      "Epoch 5/10, Loss: 7.0757, Eval Accuracy: 50.00%\n",
      "Saved best model.\n"
     ]
    },
    {
     "data": {
      "application/vnd.jupyter.widget-view+json": {
       "model_id": "9c0db1c02cb34835a26633d542b5ca39",
       "version_major": 2,
       "version_minor": 0
      },
      "text/plain": [
       "Epoch 6/10:   0%|          | 0/21 [00:00<?, ?it/s]"
      ]
     },
     "metadata": {},
     "output_type": "display_data"
    },
    {
     "name": "stdout",
     "output_type": "stream",
     "text": [
      "Epoch 6/10, Loss: 5.4278, Eval Accuracy: 50.00%\n"
     ]
    },
    {
     "data": {
      "application/vnd.jupyter.widget-view+json": {
       "model_id": "36f792f076ed44c1bb9d72c1bb970587",
       "version_major": 2,
       "version_minor": 0
      },
      "text/plain": [
       "Epoch 7/10:   0%|          | 0/21 [00:00<?, ?it/s]"
      ]
     },
     "metadata": {},
     "output_type": "display_data"
    },
    {
     "name": "stdout",
     "output_type": "stream",
     "text": [
      "Epoch 7/10, Loss: 3.2937, Eval Accuracy: 53.66%\n",
      "Saved best model.\n"
     ]
    },
    {
     "data": {
      "application/vnd.jupyter.widget-view+json": {
       "model_id": "6738d48969544f5485f3a50843f6ff92",
       "version_major": 2,
       "version_minor": 0
      },
      "text/plain": [
       "Epoch 8/10:   0%|          | 0/21 [00:00<?, ?it/s]"
      ]
     },
     "metadata": {},
     "output_type": "display_data"
    },
    {
     "name": "stdout",
     "output_type": "stream",
     "text": [
      "Epoch 8/10, Loss: 2.4251, Eval Accuracy: 51.22%\n"
     ]
    },
    {
     "data": {
      "application/vnd.jupyter.widget-view+json": {
       "model_id": "ad10f16ceb1b4f76a9f3f9ffe89669e5",
       "version_major": 2,
       "version_minor": 0
      },
      "text/plain": [
       "Epoch 9/10:   0%|          | 0/21 [00:00<?, ?it/s]"
      ]
     },
     "metadata": {},
     "output_type": "display_data"
    },
    {
     "name": "stdout",
     "output_type": "stream",
     "text": [
      "Epoch 9/10, Loss: 2.5611, Eval Accuracy: 51.22%\n"
     ]
    },
    {
     "data": {
      "application/vnd.jupyter.widget-view+json": {
       "model_id": "113f6c60c542418ead5044ced742889c",
       "version_major": 2,
       "version_minor": 0
      },
      "text/plain": [
       "Epoch 10/10:   0%|          | 0/21 [00:00<?, ?it/s]"
      ]
     },
     "metadata": {},
     "output_type": "display_data"
    },
    {
     "name": "stdout",
     "output_type": "stream",
     "text": [
      "Epoch 10/10, Loss: 1.9217, Eval Accuracy: 52.44%\n",
      "Finished Training. Best Test Accuracy: 53.66%\n"
     ]
    }
   ],
   "source": [
    "# --- Training Loop on FLIPPER ---\n",
    "flipper_configs = train_configs.copy()\n",
    "model_save_path = f'{model_dir}/03_flipper_closed_arcface_swin_b.pth'\n",
    "flipper_configs['model_save_path'] = model_save_path\n",
    "flipper_configs['target_part'] = 'flipper'  # flipper only\n",
    "pipeline.train(flipper_configs)"
   ]
  },
  {
   "cell_type": "code",
   "execution_count": 7,
   "id": "79c8f8e4",
   "metadata": {},
   "outputs": [
    {
     "data": {
      "application/vnd.jupyter.widget-view+json": {
       "model_id": "c8846b6e8b054967b146158aaf5eff8f",
       "version_major": 2,
       "version_minor": 0
      },
      "text/plain": [
       "Epoch 1/10:   0%|          | 0/21 [00:00<?, ?it/s]"
      ]
     },
     "metadata": {},
     "output_type": "display_data"
    },
    {
     "name": "stdout",
     "output_type": "stream",
     "text": [
      "Epoch 1/10, Loss: 16.3154, Eval Accuracy: 63.41%\n",
      "Saved best model.\n"
     ]
    },
    {
     "data": {
      "application/vnd.jupyter.widget-view+json": {
       "model_id": "5f8f918abf5343b08dd525c232681326",
       "version_major": 2,
       "version_minor": 0
      },
      "text/plain": [
       "Epoch 2/10:   0%|          | 0/21 [00:00<?, ?it/s]"
      ]
     },
     "metadata": {},
     "output_type": "display_data"
    },
    {
     "name": "stdout",
     "output_type": "stream",
     "text": [
      "Epoch 2/10, Loss: 13.8199, Eval Accuracy: 59.76%\n"
     ]
    },
    {
     "data": {
      "application/vnd.jupyter.widget-view+json": {
       "model_id": "0ebb16efc8b34c5e8a16f32037d2e764",
       "version_major": 2,
       "version_minor": 0
      },
      "text/plain": [
       "Epoch 3/10:   0%|          | 0/21 [00:00<?, ?it/s]"
      ]
     },
     "metadata": {},
     "output_type": "display_data"
    },
    {
     "name": "stdout",
     "output_type": "stream",
     "text": [
      "Epoch 3/10, Loss: 10.5780, Eval Accuracy: 73.17%\n",
      "Saved best model.\n"
     ]
    },
    {
     "data": {
      "application/vnd.jupyter.widget-view+json": {
       "model_id": "4f55c87f676e46cf97f2616de80360e6",
       "version_major": 2,
       "version_minor": 0
      },
      "text/plain": [
       "Epoch 4/10:   0%|          | 0/21 [00:00<?, ?it/s]"
      ]
     },
     "metadata": {},
     "output_type": "display_data"
    },
    {
     "name": "stdout",
     "output_type": "stream",
     "text": [
      "Epoch 4/10, Loss: 6.9848, Eval Accuracy: 59.76%\n"
     ]
    },
    {
     "data": {
      "application/vnd.jupyter.widget-view+json": {
       "model_id": "85a10126855e454c9b7410b408d4db9f",
       "version_major": 2,
       "version_minor": 0
      },
      "text/plain": [
       "Epoch 5/10:   0%|          | 0/21 [00:00<?, ?it/s]"
      ]
     },
     "metadata": {},
     "output_type": "display_data"
    },
    {
     "name": "stdout",
     "output_type": "stream",
     "text": [
      "Epoch 5/10, Loss: 4.5330, Eval Accuracy: 71.95%\n"
     ]
    },
    {
     "data": {
      "application/vnd.jupyter.widget-view+json": {
       "model_id": "650fcc0c2ca44d48aae89dee1597fdd4",
       "version_major": 2,
       "version_minor": 0
      },
      "text/plain": [
       "Epoch 6/10:   0%|          | 0/21 [00:00<?, ?it/s]"
      ]
     },
     "metadata": {},
     "output_type": "display_data"
    },
    {
     "name": "stdout",
     "output_type": "stream",
     "text": [
      "Epoch 6/10, Loss: 3.0875, Eval Accuracy: 73.17%\n"
     ]
    },
    {
     "data": {
      "application/vnd.jupyter.widget-view+json": {
       "model_id": "31e26d2bdd4944ddad4a00185bea4143",
       "version_major": 2,
       "version_minor": 0
      },
      "text/plain": [
       "Epoch 7/10:   0%|          | 0/21 [00:00<?, ?it/s]"
      ]
     },
     "metadata": {},
     "output_type": "display_data"
    },
    {
     "name": "stdout",
     "output_type": "stream",
     "text": [
      "Epoch 7/10, Loss: 2.0063, Eval Accuracy: 69.51%\n"
     ]
    },
    {
     "data": {
      "application/vnd.jupyter.widget-view+json": {
       "model_id": "9a2f8591089b4cc8affbb9691442d998",
       "version_major": 2,
       "version_minor": 0
      },
      "text/plain": [
       "Epoch 8/10:   0%|          | 0/21 [00:00<?, ?it/s]"
      ]
     },
     "metadata": {},
     "output_type": "display_data"
    },
    {
     "name": "stdout",
     "output_type": "stream",
     "text": [
      "Epoch 8/10, Loss: 1.4082, Eval Accuracy: 70.73%\n"
     ]
    },
    {
     "data": {
      "application/vnd.jupyter.widget-view+json": {
       "model_id": "eb3d3dae1b624295b55d1be5baa51497",
       "version_major": 2,
       "version_minor": 0
      },
      "text/plain": [
       "Epoch 9/10:   0%|          | 0/21 [00:00<?, ?it/s]"
      ]
     },
     "metadata": {},
     "output_type": "display_data"
    },
    {
     "name": "stdout",
     "output_type": "stream",
     "text": [
      "Epoch 9/10, Loss: 1.1773, Eval Accuracy: 69.51%\n"
     ]
    },
    {
     "data": {
      "application/vnd.jupyter.widget-view+json": {
       "model_id": "91aa8d79e1014bef8bc2d7fe8e59eb5d",
       "version_major": 2,
       "version_minor": 0
      },
      "text/plain": [
       "Epoch 10/10:   0%|          | 0/21 [00:00<?, ?it/s]"
      ]
     },
     "metadata": {},
     "output_type": "display_data"
    },
    {
     "name": "stdout",
     "output_type": "stream",
     "text": [
      "Epoch 10/10, Loss: 1.4771, Eval Accuracy: 70.73%\n",
      "Finished Training. Best Test Accuracy: 73.17%\n"
     ]
    }
   ],
   "source": [
    "# --- Training Loop on HEAD ---\n",
    "head_configs = train_configs.copy()\n",
    "model_save_path = f'{model_dir}/03_head_closed_arcface_swin_b.pth'\n",
    "head_configs['model_save_path'] = model_save_path\n",
    "head_configs['target_part'] = 'head'  # head only\n",
    "pipeline.train(head_configs)"
   ]
  },
  {
   "cell_type": "code",
   "execution_count": null,
   "id": "cbce3f89",
   "metadata": {},
   "outputs": [],
   "source": [
    "# --- Training Loop on Turtle ---\n",
    "turle_configs = train_configs.copy()\n",
    "model_save_path = f'{model_dir}/03_turle_closed_arcface_swin_b.pth'\n",
    "turle_configs['model_save_path'] = model_save_path\n",
    "turle_configs['target_part'] = 'turle'  # turle only\n",
    "pipeline.train(turle_configs)"
   ]
  }
 ],
 "metadata": {
  "kernelspec": {
   "display_name": "dl",
   "language": "python",
   "name": "python3"
  },
  "language_info": {
   "codemirror_mode": {
    "name": "ipython",
    "version": 3
   },
   "file_extension": ".py",
   "mimetype": "text/x-python",
   "name": "python",
   "nbconvert_exporter": "python",
   "pygments_lexer": "ipython3",
   "version": "3.13.9"
  }
 },
 "nbformat": 4,
 "nbformat_minor": 5
}
