{
 "cells": [
  {
   "cell_type": "markdown",
   "id": "d7fe4985",
   "metadata": {},
   "source": [
    "# Body parts\n",
    "\n",
    "- Loss function: ArcFace\n",
    "- SwimB\n",
    "- closed set\n",
    "- Segmentation\n",
    "  - Full body - Simply combine all body parts\n",
    "  - Fixed Weighted body parts - Combine all body parts with fixed Weights\n",
    "  - Learnable Weighted body parts - Combine all body parts with Learnable Weights"
   ]
  },
  {
   "cell_type": "code",
   "execution_count": 2,
   "id": "0367ce6d",
   "metadata": {},
   "outputs": [],
   "source": [
    "import os\n",
    "from pathlib import Path"
   ]
  },
  {
   "cell_type": "code",
   "execution_count": 3,
   "id": "66673ff8",
   "metadata": {},
   "outputs": [],
   "source": [
    "from src.dataset import download_dataset\n",
    "from src.utils import get_device\n",
    "from src.pipeline import TurtleReIdPipeline\n",
    "from src.model import PartsSwinBModel\n",
    "from src.model import WeightedPartsSwinBModel\n",
    "from src.model import LearnableWeightedPartsSwinBModel"
   ]
  },
  {
   "cell_type": "code",
   "execution_count": 4,
   "id": "dc86ef8b",
   "metadata": {},
   "outputs": [
    {
     "name": "stdout",
     "output_type": "stream",
     "text": [
      "Dataset downloaded and extracted to: /Users/nhut/.cache/kagglehub/datasets/wildlifedatasets/seaturtleid2022/versions/4\n"
     ]
    }
   ],
   "source": [
    "# --- Pipeline parameters ---\n",
    "device = get_device()\n",
    "EMBEDDING_SIZE = 512\n",
    "\n",
    "\n",
    "# --- Transform parameters ---\n",
    "IMG_SIZE = 224\n",
    "\n",
    "\n",
    "# --- Datasets parameters ---\n",
    "DATA_DIR = './data/seaturtleid2022-subset'\n",
    "train_csv_path = os.path.join(DATA_DIR, \"metadata_closed_set_splits_train.csv\")\n",
    "eval_csv_path = os.path.join(DATA_DIR, \"metadata_closed_set_splits_valid.csv\")\n",
    "test_csv_path = os.path.join(DATA_DIR, \"metadata_closed_set_splits_test.csv\")\n",
    "datasets_paths = {\n",
    "    'train_csv_path': train_csv_path,\n",
    "    'eval_csv_path': eval_csv_path,\n",
    "    'test_csv_path': test_csv_path,\n",
    "}\n",
    "\n",
    "paths = download_dataset()\n",
    "img_dir=paths['images_path']\n",
    "\n",
    "annotations_path= f\"{DATA_DIR}/annotations.json\"\n",
    "\n",
    "\n",
    "# --- Training parameters ---\n",
    "BATCH_SIZE = 10\n",
    "LEARNING_RATE = 1e-4\n",
    "EPOCHS = 10\n",
    "\n",
    "model_dir = './models'\n",
    "Path(model_dir).mkdir(parents=True, exist_ok=True)\n",
    "\n",
    "\n",
    "train_configs = {\n",
    "    'batch_size': BATCH_SIZE,\n",
    "    'learning_rate': LEARNING_RATE,\n",
    "    'epochs': EPOCHS,\n",
    "    # 'model_save_path': model_save_path,\n",
    "    'k': 1\n",
    "}"
   ]
  },
  {
   "cell_type": "markdown",
   "id": "5eb7b0ff",
   "metadata": {},
   "source": [
    "### Whole turtle body"
   ]
  },
  {
   "cell_type": "code",
   "execution_count": 4,
   "id": "313cb824",
   "metadata": {},
   "outputs": [
    {
     "name": "stdout",
     "output_type": "stream",
     "text": [
      "loading annotations into memory...\n",
      "Done (t=0.26s)\n",
      "creating index...\n",
      "index created!\n",
      "loading annotations into memory...\n",
      "Done (t=0.17s)\n",
      "creating index...\n",
      "index created!\n",
      "loading annotations into memory...\n",
      "Done (t=0.16s)\n",
      "creating index...\n",
      "index created!\n"
     ]
    }
   ],
   "source": [
    "turtle_model = PartsSwinBModel(embedding_size=EMBEDDING_SIZE)\n",
    "turtle_pipeline = TurtleReIdPipeline(device, EMBEDDING_SIZE, model=turtle_model)\n",
    "turtle_pipeline.set_transforms(IMG_SIZE)\n",
    "turtle_pipeline.set_datasets(datasets_paths, img_dir, annotations_path)"
   ]
  },
  {
   "cell_type": "code",
   "execution_count": 6,
   "id": "f4907d67",
   "metadata": {},
   "outputs": [
    {
     "data": {
      "application/vnd.jupyter.widget-view+json": {
       "model_id": "ac60cd752dd84ab59cc4897fdec7caa2",
       "version_major": 2,
       "version_minor": 0
      },
      "text/plain": [
       "Epoch 1/10:   0%|          | 0/21 [00:00<?, ?it/s]"
      ]
     },
     "metadata": {},
     "output_type": "display_data"
    },
    {
     "name": "stdout",
     "output_type": "stream",
     "text": [
      "Epoch 1/10, Loss: 16.3362, Eval Accuracy: 45.12%\n",
      "Saved best model.\n"
     ]
    },
    {
     "data": {
      "application/vnd.jupyter.widget-view+json": {
       "model_id": "819d3a067d5649eea868a3a8f5141adf",
       "version_major": 2,
       "version_minor": 0
      },
      "text/plain": [
       "Epoch 2/10:   0%|          | 0/21 [00:00<?, ?it/s]"
      ]
     },
     "metadata": {},
     "output_type": "display_data"
    },
    {
     "name": "stdout",
     "output_type": "stream",
     "text": [
      "Epoch 2/10, Loss: 13.8179, Eval Accuracy: 63.41%\n",
      "Saved best model.\n"
     ]
    },
    {
     "data": {
      "application/vnd.jupyter.widget-view+json": {
       "model_id": "7653b54e10ff4bde85e49a3ce40b5da1",
       "version_major": 2,
       "version_minor": 0
      },
      "text/plain": [
       "Epoch 3/10:   0%|          | 0/21 [00:00<?, ?it/s]"
      ]
     },
     "metadata": {},
     "output_type": "display_data"
    },
    {
     "name": "stdout",
     "output_type": "stream",
     "text": [
      "Epoch 3/10, Loss: 9.8900, Eval Accuracy: 69.51%\n",
      "Saved best model.\n"
     ]
    },
    {
     "data": {
      "application/vnd.jupyter.widget-view+json": {
       "model_id": "95a85b016b9d479fbffe8dc0b70aee02",
       "version_major": 2,
       "version_minor": 0
      },
      "text/plain": [
       "Epoch 4/10:   0%|          | 0/21 [00:00<?, ?it/s]"
      ]
     },
     "metadata": {},
     "output_type": "display_data"
    },
    {
     "name": "stdout",
     "output_type": "stream",
     "text": [
      "Epoch 4/10, Loss: 6.3297, Eval Accuracy: 71.95%\n",
      "Saved best model.\n"
     ]
    },
    {
     "data": {
      "application/vnd.jupyter.widget-view+json": {
       "model_id": "e1982bd8c4b8460b9381da89e8a76816",
       "version_major": 2,
       "version_minor": 0
      },
      "text/plain": [
       "Epoch 5/10:   0%|          | 0/21 [00:00<?, ?it/s]"
      ]
     },
     "metadata": {},
     "output_type": "display_data"
    },
    {
     "name": "stdout",
     "output_type": "stream",
     "text": [
      "Epoch 5/10, Loss: 3.4703, Eval Accuracy: 79.27%\n",
      "Saved best model.\n"
     ]
    },
    {
     "data": {
      "application/vnd.jupyter.widget-view+json": {
       "model_id": "02936ab5248941f891e4fb8fcfbb7558",
       "version_major": 2,
       "version_minor": 0
      },
      "text/plain": [
       "Epoch 6/10:   0%|          | 0/21 [00:00<?, ?it/s]"
      ]
     },
     "metadata": {},
     "output_type": "display_data"
    },
    {
     "name": "stdout",
     "output_type": "stream",
     "text": [
      "Epoch 6/10, Loss: 1.7733, Eval Accuracy: 79.27%\n"
     ]
    },
    {
     "data": {
      "application/vnd.jupyter.widget-view+json": {
       "model_id": "cfdc0db83b744b53865f33a1584627bb",
       "version_major": 2,
       "version_minor": 0
      },
      "text/plain": [
       "Epoch 7/10:   0%|          | 0/21 [00:00<?, ?it/s]"
      ]
     },
     "metadata": {},
     "output_type": "display_data"
    },
    {
     "name": "stdout",
     "output_type": "stream",
     "text": [
      "Epoch 7/10, Loss: 0.6698, Eval Accuracy: 84.15%\n",
      "Saved best model.\n"
     ]
    },
    {
     "data": {
      "application/vnd.jupyter.widget-view+json": {
       "model_id": "7a94094a2e634395aeb2da33ace989a1",
       "version_major": 2,
       "version_minor": 0
      },
      "text/plain": [
       "Epoch 8/10:   0%|          | 0/21 [00:00<?, ?it/s]"
      ]
     },
     "metadata": {},
     "output_type": "display_data"
    },
    {
     "name": "stdout",
     "output_type": "stream",
     "text": [
      "Epoch 8/10, Loss: 0.4455, Eval Accuracy: 80.49%\n"
     ]
    },
    {
     "data": {
      "application/vnd.jupyter.widget-view+json": {
       "model_id": "0f5381e252384487b2b3f9f6c37f7642",
       "version_major": 2,
       "version_minor": 0
      },
      "text/plain": [
       "Epoch 9/10:   0%|          | 0/21 [00:00<?, ?it/s]"
      ]
     },
     "metadata": {},
     "output_type": "display_data"
    },
    {
     "name": "stdout",
     "output_type": "stream",
     "text": [
      "Epoch 9/10, Loss: 0.3164, Eval Accuracy: 80.49%\n"
     ]
    },
    {
     "data": {
      "application/vnd.jupyter.widget-view+json": {
       "model_id": "73922e8c7a4845039bf1c31a2ec203f4",
       "version_major": 2,
       "version_minor": 0
      },
      "text/plain": [
       "Epoch 10/10:   0%|          | 0/21 [00:00<?, ?it/s]"
      ]
     },
     "metadata": {},
     "output_type": "display_data"
    },
    {
     "name": "stdout",
     "output_type": "stream",
     "text": [
      "Epoch 10/10, Loss: 0.2278, Eval Accuracy: 79.27%\n",
      "Finished Training. Best Test Accuracy: 84.15%\n"
     ]
    }
   ],
   "source": [
    "# --- Training Loop on All Parts ---\n",
    "turtle_configs = train_configs.copy()\n",
    "model_save_path = f'{model_dir}/04_combination_closed_arcface_swimb.pth'\n",
    "turtle_configs['model_save_path'] = model_save_path\n",
    "turtle_configs['target_part'] = 'parts'  # all parts (head, flipper, body)\n",
    "turtle_pipeline.train(turtle_configs)"
   ]
  },
  {
   "cell_type": "markdown",
   "id": "68ebebf4",
   "metadata": {},
   "source": [
    "### Whole Turtle body with Fixed weights"
   ]
  },
  {
   "cell_type": "code",
   "execution_count": 4,
   "id": "a2438f5a",
   "metadata": {},
   "outputs": [
    {
     "name": "stdout",
     "output_type": "stream",
     "text": [
      "loading annotations into memory...\n",
      "Done (t=0.26s)\n",
      "creating index...\n",
      "index created!\n",
      "loading annotations into memory...\n",
      "Done (t=0.16s)\n",
      "creating index...\n",
      "index created!\n",
      "loading annotations into memory...\n",
      "Done (t=0.16s)\n",
      "creating index...\n",
      "index created!\n"
     ]
    }
   ],
   "source": [
    "fixed_model = WeightedPartsSwinBModel(\n",
    "    embedding_size=EMBEDDING_SIZE, part_weights=[1, 1.5, 2])\n",
    "fixed_pipeline = TurtleReIdPipeline(device, EMBEDDING_SIZE, model=fixed_model)\n",
    "fixed_pipeline.set_transforms(IMG_SIZE)\n",
    "fixed_pipeline.set_datasets(datasets_paths, img_dir, annotations_path)"
   ]
  },
  {
   "cell_type": "code",
   "execution_count": 5,
   "id": "bffa760d",
   "metadata": {},
   "outputs": [
    {
     "data": {
      "application/vnd.jupyter.widget-view+json": {
       "model_id": "7ba9ec021ce04033b3fa1155e47cf8b8",
       "version_major": 2,
       "version_minor": 0
      },
      "text/plain": [
       "Epoch 1/10:   0%|          | 0/21 [00:00<?, ?it/s]"
      ]
     },
     "metadata": {},
     "output_type": "display_data"
    },
    {
     "name": "stdout",
     "output_type": "stream",
     "text": [
      "Epoch 1/10, Loss: 16.8517, Eval Accuracy: 50.00%\n",
      "Saved best model.\n"
     ]
    },
    {
     "data": {
      "application/vnd.jupyter.widget-view+json": {
       "model_id": "5f1569eaa30440868bced195cf71261e",
       "version_major": 2,
       "version_minor": 0
      },
      "text/plain": [
       "Epoch 2/10:   0%|          | 0/21 [00:00<?, ?it/s]"
      ]
     },
     "metadata": {},
     "output_type": "display_data"
    },
    {
     "name": "stdout",
     "output_type": "stream",
     "text": [
      "Epoch 2/10, Loss: 14.1906, Eval Accuracy: 58.54%\n",
      "Saved best model.\n"
     ]
    },
    {
     "data": {
      "application/vnd.jupyter.widget-view+json": {
       "model_id": "f1ba4123be8a4dd8a537f537d7d21c93",
       "version_major": 2,
       "version_minor": 0
      },
      "text/plain": [
       "Epoch 3/10:   0%|          | 0/21 [00:00<?, ?it/s]"
      ]
     },
     "metadata": {},
     "output_type": "display_data"
    },
    {
     "name": "stdout",
     "output_type": "stream",
     "text": [
      "Epoch 3/10, Loss: 11.7524, Eval Accuracy: 63.41%\n",
      "Saved best model.\n"
     ]
    },
    {
     "data": {
      "application/vnd.jupyter.widget-view+json": {
       "model_id": "7c7fb2001c734a2e8b06c768e50bf1ad",
       "version_major": 2,
       "version_minor": 0
      },
      "text/plain": [
       "Epoch 4/10:   0%|          | 0/21 [00:00<?, ?it/s]"
      ]
     },
     "metadata": {},
     "output_type": "display_data"
    },
    {
     "name": "stdout",
     "output_type": "stream",
     "text": [
      "Epoch 4/10, Loss: 8.2419, Eval Accuracy: 68.29%\n",
      "Saved best model.\n"
     ]
    },
    {
     "data": {
      "application/vnd.jupyter.widget-view+json": {
       "model_id": "6cf183bbde6b44ffb89358cf52ab6b51",
       "version_major": 2,
       "version_minor": 0
      },
      "text/plain": [
       "Epoch 5/10:   0%|          | 0/21 [00:00<?, ?it/s]"
      ]
     },
     "metadata": {},
     "output_type": "display_data"
    },
    {
     "name": "stdout",
     "output_type": "stream",
     "text": [
      "Epoch 5/10, Loss: 5.5028, Eval Accuracy: 76.83%\n",
      "Saved best model.\n"
     ]
    },
    {
     "data": {
      "application/vnd.jupyter.widget-view+json": {
       "model_id": "50440ac25ac24b8a8cfa08f49dddc706",
       "version_major": 2,
       "version_minor": 0
      },
      "text/plain": [
       "Epoch 6/10:   0%|          | 0/21 [00:00<?, ?it/s]"
      ]
     },
     "metadata": {},
     "output_type": "display_data"
    },
    {
     "name": "stdout",
     "output_type": "stream",
     "text": [
      "Epoch 6/10, Loss: 2.7951, Eval Accuracy: 76.83%\n"
     ]
    },
    {
     "data": {
      "application/vnd.jupyter.widget-view+json": {
       "model_id": "1111e939782b477cbd486c7247df6b56",
       "version_major": 2,
       "version_minor": 0
      },
      "text/plain": [
       "Epoch 7/10:   0%|          | 0/21 [00:00<?, ?it/s]"
      ]
     },
     "metadata": {},
     "output_type": "display_data"
    },
    {
     "name": "stdout",
     "output_type": "stream",
     "text": [
      "Epoch 7/10, Loss: 1.8482, Eval Accuracy: 76.83%\n"
     ]
    },
    {
     "data": {
      "application/vnd.jupyter.widget-view+json": {
       "model_id": "4b02048bda534b6bab6a1d71a4cb9580",
       "version_major": 2,
       "version_minor": 0
      },
      "text/plain": [
       "Epoch 8/10:   0%|          | 0/21 [00:00<?, ?it/s]"
      ]
     },
     "metadata": {},
     "output_type": "display_data"
    },
    {
     "name": "stdout",
     "output_type": "stream",
     "text": [
      "Epoch 8/10, Loss: 0.8690, Eval Accuracy: 81.71%\n",
      "Saved best model.\n"
     ]
    },
    {
     "data": {
      "application/vnd.jupyter.widget-view+json": {
       "model_id": "c3ad729abe484583855b689a3a678a0c",
       "version_major": 2,
       "version_minor": 0
      },
      "text/plain": [
       "Epoch 9/10:   0%|          | 0/21 [00:00<?, ?it/s]"
      ]
     },
     "metadata": {},
     "output_type": "display_data"
    },
    {
     "name": "stdout",
     "output_type": "stream",
     "text": [
      "Epoch 9/10, Loss: 0.4747, Eval Accuracy: 79.27%\n"
     ]
    },
    {
     "data": {
      "application/vnd.jupyter.widget-view+json": {
       "model_id": "3dc5d4734fb441899d951ba997d78daa",
       "version_major": 2,
       "version_minor": 0
      },
      "text/plain": [
       "Epoch 10/10:   0%|          | 0/21 [00:00<?, ?it/s]"
      ]
     },
     "metadata": {},
     "output_type": "display_data"
    },
    {
     "name": "stdout",
     "output_type": "stream",
     "text": [
      "Epoch 10/10, Loss: 0.6709, Eval Accuracy: 81.71%\n",
      "Finished Training. Best Test Accuracy: 81.71%\n"
     ]
    }
   ],
   "source": [
    "# --- Training Loop on FIXED WEIGHTs ---\n",
    "fixed_configs = train_configs.copy()\n",
    "model_save_path = f'{model_dir}/04_fixed_combination_closed_arcface_swimb.pth'\n",
    "fixed_configs['model_save_path'] = model_save_path\n",
    "fixed_configs['target_part'] = 'parts'  # all parts (head, flipper, body)\n",
    "fixed_pipeline.train(fixed_configs)"
   ]
  },
  {
   "cell_type": "markdown",
   "id": "1d837dca",
   "metadata": {},
   "source": [
    "### Whole Turtle body with Trainable weights"
   ]
  },
  {
   "cell_type": "code",
   "execution_count": null,
   "id": "46be4e61",
   "metadata": {},
   "outputs": [
    {
     "name": "stdout",
     "output_type": "stream",
     "text": [
      "loading annotations into memory...\n",
      "Done (t=0.25s)\n",
      "creating index...\n",
      "index created!\n",
      "loading annotations into memory...\n",
      "Done (t=0.17s)\n",
      "creating index...\n",
      "index created!\n",
      "loading annotations into memory...\n",
      "Done (t=0.16s)\n",
      "creating index...\n",
      "index created!\n"
     ]
    }
   ],
   "source": [
    "learnable_model = LearnableWeightedPartsSwinBModel(\n",
    "    embedding_size=EMBEDDING_SIZE, per_dimension=False) \n",
    "learnable_pipeline = TurtleReIdPipeline(\n",
    "    device, EMBEDDING_SIZE, model=learnable_model)\n",
    "learnable_pipeline.set_transforms(IMG_SIZE)\n",
    "learnable_pipeline.set_datasets(datasets_paths, img_dir, annotations_path)"
   ]
  },
  {
   "cell_type": "code",
   "execution_count": 5,
   "id": "21071799",
   "metadata": {},
   "outputs": [
    {
     "data": {
      "application/vnd.jupyter.widget-view+json": {
       "model_id": "580f3b5834284cf4910ef4a6125aa101",
       "version_major": 2,
       "version_minor": 0
      },
      "text/plain": [
       "Epoch 1/10:   0%|          | 0/21 [00:00<?, ?it/s]"
      ]
     },
     "metadata": {},
     "output_type": "display_data"
    },
    {
     "name": "stdout",
     "output_type": "stream",
     "text": [
      "Epoch 1/10, Loss: 16.9537, Eval Accuracy: 41.46%\n",
      "Saved best model.\n"
     ]
    },
    {
     "data": {
      "application/vnd.jupyter.widget-view+json": {
       "model_id": "59d5e03f6d65423eaefd7715006433af",
       "version_major": 2,
       "version_minor": 0
      },
      "text/plain": [
       "Epoch 2/10:   0%|          | 0/21 [00:00<?, ?it/s]"
      ]
     },
     "metadata": {},
     "output_type": "display_data"
    },
    {
     "name": "stdout",
     "output_type": "stream",
     "text": [
      "Epoch 2/10, Loss: 14.4032, Eval Accuracy: 68.29%\n",
      "Saved best model.\n"
     ]
    },
    {
     "data": {
      "application/vnd.jupyter.widget-view+json": {
       "model_id": "41bd749986ed406cb97182fa2291d307",
       "version_major": 2,
       "version_minor": 0
      },
      "text/plain": [
       "Epoch 3/10:   0%|          | 0/21 [00:00<?, ?it/s]"
      ]
     },
     "metadata": {},
     "output_type": "display_data"
    },
    {
     "name": "stdout",
     "output_type": "stream",
     "text": [
      "Epoch 3/10, Loss: 10.2955, Eval Accuracy: 65.85%\n"
     ]
    },
    {
     "data": {
      "application/vnd.jupyter.widget-view+json": {
       "model_id": "851f29f72eb041a1bf8eec04b1d0a6e1",
       "version_major": 2,
       "version_minor": 0
      },
      "text/plain": [
       "Epoch 4/10:   0%|          | 0/21 [00:00<?, ?it/s]"
      ]
     },
     "metadata": {},
     "output_type": "display_data"
    },
    {
     "name": "stdout",
     "output_type": "stream",
     "text": [
      "Epoch 4/10, Loss: 6.7454, Eval Accuracy: 75.61%\n",
      "Saved best model.\n"
     ]
    },
    {
     "data": {
      "application/vnd.jupyter.widget-view+json": {
       "model_id": "60ced4cf83cf44f48940fc099c55dc6a",
       "version_major": 2,
       "version_minor": 0
      },
      "text/plain": [
       "Epoch 5/10:   0%|          | 0/21 [00:00<?, ?it/s]"
      ]
     },
     "metadata": {},
     "output_type": "display_data"
    },
    {
     "name": "stdout",
     "output_type": "stream",
     "text": [
      "Epoch 5/10, Loss: 3.8610, Eval Accuracy: 69.51%\n"
     ]
    },
    {
     "data": {
      "application/vnd.jupyter.widget-view+json": {
       "model_id": "764eeafb4d7a4d799c864aecc70433a5",
       "version_major": 2,
       "version_minor": 0
      },
      "text/plain": [
       "Epoch 6/10:   0%|          | 0/21 [00:00<?, ?it/s]"
      ]
     },
     "metadata": {},
     "output_type": "display_data"
    },
    {
     "name": "stdout",
     "output_type": "stream",
     "text": [
      "Epoch 6/10, Loss: 1.8304, Eval Accuracy: 76.83%\n",
      "Saved best model.\n"
     ]
    },
    {
     "data": {
      "application/vnd.jupyter.widget-view+json": {
       "model_id": "6f894c1038e94cf5aea5fc292f198ca2",
       "version_major": 2,
       "version_minor": 0
      },
      "text/plain": [
       "Epoch 7/10:   0%|          | 0/21 [00:00<?, ?it/s]"
      ]
     },
     "metadata": {},
     "output_type": "display_data"
    },
    {
     "name": "stdout",
     "output_type": "stream",
     "text": [
      "Epoch 7/10, Loss: 1.0983, Eval Accuracy: 75.61%\n"
     ]
    },
    {
     "data": {
      "application/vnd.jupyter.widget-view+json": {
       "model_id": "fb07d78f49b94af1b2fa43896ddf2bbe",
       "version_major": 2,
       "version_minor": 0
      },
      "text/plain": [
       "Epoch 8/10:   0%|          | 0/21 [00:00<?, ?it/s]"
      ]
     },
     "metadata": {},
     "output_type": "display_data"
    },
    {
     "name": "stdout",
     "output_type": "stream",
     "text": [
      "Epoch 8/10, Loss: 0.7554, Eval Accuracy: 75.61%\n"
     ]
    },
    {
     "data": {
      "application/vnd.jupyter.widget-view+json": {
       "model_id": "8462b808d1644afab60bca92cc1d36c5",
       "version_major": 2,
       "version_minor": 0
      },
      "text/plain": [
       "Epoch 9/10:   0%|          | 0/21 [00:00<?, ?it/s]"
      ]
     },
     "metadata": {},
     "output_type": "display_data"
    },
    {
     "name": "stdout",
     "output_type": "stream",
     "text": [
      "Epoch 9/10, Loss: 0.4872, Eval Accuracy: 76.83%\n"
     ]
    },
    {
     "data": {
      "application/vnd.jupyter.widget-view+json": {
       "model_id": "229e95fd0e714f609a2e070f2bdc3452",
       "version_major": 2,
       "version_minor": 0
      },
      "text/plain": [
       "Epoch 10/10:   0%|          | 0/21 [00:00<?, ?it/s]"
      ]
     },
     "metadata": {},
     "output_type": "display_data"
    },
    {
     "name": "stdout",
     "output_type": "stream",
     "text": [
      "Epoch 10/10, Loss: 0.3831, Eval Accuracy: 78.05%\n",
      "Saved best model.\n",
      "Finished Training. Best Test Accuracy: 78.05%\n"
     ]
    }
   ],
   "source": [
    "# --- Training Loop on LEARNABLE WEIGHTs ---\n",
    "learnable_configs = train_configs.copy()\n",
    "model_save_path = f'{model_dir}/04_learnable_combination_closed_arcface_swimb.pth'\n",
    "learnable_configs['model_save_path'] = model_save_path\n",
    "learnable_configs['target_part'] = 'parts'  # trainable learnable parts\n",
    "learnable_pipeline.train(learnable_configs)"
   ]
  },
  {
   "cell_type": "markdown",
   "id": "5e19e598",
   "metadata": {},
   "source": [
    "### Whole Turtle body with Trainable weights per demention"
   ]
  },
  {
   "cell_type": "code",
   "execution_count": 5,
   "id": "28f0f619",
   "metadata": {},
   "outputs": [
    {
     "name": "stdout",
     "output_type": "stream",
     "text": [
      "loading annotations into memory...\n",
      "Done (t=0.25s)\n",
      "creating index...\n",
      "index created!\n",
      "loading annotations into memory...\n",
      "Done (t=0.16s)\n",
      "creating index...\n",
      "index created!\n",
      "loading annotations into memory...\n",
      "Done (t=0.16s)\n",
      "creating index...\n",
      "index created!\n"
     ]
    }
   ],
   "source": [
    "dim_learnable_model = LearnableWeightedPartsSwinBModel(\n",
    "    embedding_size=EMBEDDING_SIZE, per_dimension=True) \n",
    "dim_learnable_pipeline = TurtleReIdPipeline(\n",
    "    device, EMBEDDING_SIZE, model=dim_learnable_model)\n",
    "dim_learnable_pipeline.set_transforms(IMG_SIZE)\n",
    "dim_learnable_pipeline.set_datasets(datasets_paths, img_dir, annotations_path)"
   ]
  },
  {
   "cell_type": "code",
   "execution_count": 6,
   "id": "568f56e7",
   "metadata": {},
   "outputs": [
    {
     "data": {
      "application/vnd.jupyter.widget-view+json": {
       "model_id": "eaa3317af1544bf7a5d403a6bef73543",
       "version_major": 2,
       "version_minor": 0
      },
      "text/plain": [
       "Epoch 1/10:   0%|          | 0/21 [00:00<?, ?it/s]"
      ]
     },
     "metadata": {},
     "output_type": "display_data"
    },
    {
     "name": "stdout",
     "output_type": "stream",
     "text": [
      "Epoch 1/10, Loss: 16.6349, Eval Accuracy: 53.66%\n",
      "Saved best model.\n"
     ]
    },
    {
     "data": {
      "application/vnd.jupyter.widget-view+json": {
       "model_id": "ff004926991d4cf4927c2ffd53237419",
       "version_major": 2,
       "version_minor": 0
      },
      "text/plain": [
       "Epoch 2/10:   0%|          | 0/21 [00:00<?, ?it/s]"
      ]
     },
     "metadata": {},
     "output_type": "display_data"
    },
    {
     "name": "stdout",
     "output_type": "stream",
     "text": [
      "Epoch 2/10, Loss: 14.0478, Eval Accuracy: 54.88%\n",
      "Saved best model.\n"
     ]
    },
    {
     "data": {
      "application/vnd.jupyter.widget-view+json": {
       "model_id": "b69656051fd44f818a457d5f26787167",
       "version_major": 2,
       "version_minor": 0
      },
      "text/plain": [
       "Epoch 3/10:   0%|          | 0/21 [00:00<?, ?it/s]"
      ]
     },
     "metadata": {},
     "output_type": "display_data"
    },
    {
     "name": "stdout",
     "output_type": "stream",
     "text": [
      "Epoch 3/10, Loss: 10.8617, Eval Accuracy: 68.29%\n",
      "Saved best model.\n"
     ]
    },
    {
     "data": {
      "application/vnd.jupyter.widget-view+json": {
       "model_id": "8d34d53dce234311a5b2cd13102df3aa",
       "version_major": 2,
       "version_minor": 0
      },
      "text/plain": [
       "Epoch 4/10:   0%|          | 0/21 [00:00<?, ?it/s]"
      ]
     },
     "metadata": {},
     "output_type": "display_data"
    },
    {
     "name": "stdout",
     "output_type": "stream",
     "text": [
      "Epoch 4/10, Loss: 7.1825, Eval Accuracy: 68.29%\n"
     ]
    },
    {
     "data": {
      "application/vnd.jupyter.widget-view+json": {
       "model_id": "c74efba0bc924ecda2baae8628d2cba0",
       "version_major": 2,
       "version_minor": 0
      },
      "text/plain": [
       "Epoch 5/10:   0%|          | 0/21 [00:00<?, ?it/s]"
      ]
     },
     "metadata": {},
     "output_type": "display_data"
    },
    {
     "name": "stdout",
     "output_type": "stream",
     "text": [
      "Epoch 5/10, Loss: 3.7171, Eval Accuracy: 69.51%\n",
      "Saved best model.\n"
     ]
    },
    {
     "data": {
      "application/vnd.jupyter.widget-view+json": {
       "model_id": "d2899ce497904e3e8b4b499eaed225be",
       "version_major": 2,
       "version_minor": 0
      },
      "text/plain": [
       "Epoch 6/10:   0%|          | 0/21 [00:00<?, ?it/s]"
      ]
     },
     "metadata": {},
     "output_type": "display_data"
    },
    {
     "name": "stdout",
     "output_type": "stream",
     "text": [
      "Epoch 6/10, Loss: 1.8546, Eval Accuracy: 70.73%\n",
      "Saved best model.\n"
     ]
    },
    {
     "data": {
      "application/vnd.jupyter.widget-view+json": {
       "model_id": "322aa6af84e34e81bc4966365993aec2",
       "version_major": 2,
       "version_minor": 0
      },
      "text/plain": [
       "Epoch 7/10:   0%|          | 0/21 [00:00<?, ?it/s]"
      ]
     },
     "metadata": {},
     "output_type": "display_data"
    },
    {
     "name": "stdout",
     "output_type": "stream",
     "text": [
      "Epoch 7/10, Loss: 1.1141, Eval Accuracy: 75.61%\n",
      "Saved best model.\n"
     ]
    },
    {
     "data": {
      "application/vnd.jupyter.widget-view+json": {
       "model_id": "f01222b7a704434a8fca8f5e05e1c441",
       "version_major": 2,
       "version_minor": 0
      },
      "text/plain": [
       "Epoch 8/10:   0%|          | 0/21 [00:00<?, ?it/s]"
      ]
     },
     "metadata": {},
     "output_type": "display_data"
    },
    {
     "name": "stdout",
     "output_type": "stream",
     "text": [
      "Epoch 8/10, Loss: 0.6315, Eval Accuracy: 74.39%\n"
     ]
    },
    {
     "data": {
      "application/vnd.jupyter.widget-view+json": {
       "model_id": "b0ae44eebf7e43c39826102d572dcac9",
       "version_major": 2,
       "version_minor": 0
      },
      "text/plain": [
       "Epoch 9/10:   0%|          | 0/21 [00:00<?, ?it/s]"
      ]
     },
     "metadata": {},
     "output_type": "display_data"
    },
    {
     "name": "stdout",
     "output_type": "stream",
     "text": [
      "Epoch 9/10, Loss: 0.2543, Eval Accuracy: 73.17%\n"
     ]
    },
    {
     "data": {
      "application/vnd.jupyter.widget-view+json": {
       "model_id": "c505655ede65478c943f5f45fcbc7a5d",
       "version_major": 2,
       "version_minor": 0
      },
      "text/plain": [
       "Epoch 10/10:   0%|          | 0/21 [00:00<?, ?it/s]"
      ]
     },
     "metadata": {},
     "output_type": "display_data"
    },
    {
     "name": "stdout",
     "output_type": "stream",
     "text": [
      "Epoch 10/10, Loss: 0.3204, Eval Accuracy: 70.73%\n",
      "Finished Training. Best Test Accuracy: 75.61%\n"
     ]
    }
   ],
   "source": [
    "# --- Training Loop on LEARNABLE PER-DIMENSION WEIGHTs ---\n",
    "dim_learnable_configs = train_configs.copy()\n",
    "model_save_path = f'{model_dir}/04_dim_learnable_combination_closed_arcface_swimb.pth'\n",
    "dim_learnable_configs['model_save_path'] = model_save_path\n",
    "dim_learnable_configs['target_part'] = 'parts'  # trainable learnable parts\n",
    "dim_learnable_pipeline.train(dim_learnable_configs)"
   ]
  }
 ],
 "metadata": {
  "kernelspec": {
   "display_name": "dl",
   "language": "python",
   "name": "python3"
  },
  "language_info": {
   "codemirror_mode": {
    "name": "ipython",
    "version": 3
   },
   "file_extension": ".py",
   "mimetype": "text/x-python",
   "name": "python",
   "nbconvert_exporter": "python",
   "pygments_lexer": "ipython3",
   "version": "3.13.9"
  }
 },
 "nbformat": 4,
 "nbformat_minor": 5
}
