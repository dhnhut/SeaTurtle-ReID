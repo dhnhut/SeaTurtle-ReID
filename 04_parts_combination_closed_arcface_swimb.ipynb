{
 "cells": [
  {
   "cell_type": "markdown",
   "id": "d7fe4985",
   "metadata": {},
   "source": [
    "# Body parts\n",
    "\n",
    "- Loss function: ArcFace\n",
    "- SwimB\n",
    "- closed set\n",
    "- Segmentation\n",
    "  - Full body - Combine all body parts\n",
    "  - Weighted body parts - Combine all body parts with Weights"
   ]
  },
  {
   "cell_type": "code",
   "execution_count": 1,
   "id": "0367ce6d",
   "metadata": {},
   "outputs": [],
   "source": [
    "import os\n",
    "from pathlib import Path"
   ]
  },
  {
   "cell_type": "code",
   "execution_count": 2,
   "id": "66673ff8",
   "metadata": {},
   "outputs": [],
   "source": [
    "from src.dataset import download_dataset\n",
    "from src.utils import get_device\n",
    "from src.pipeline import TurtleReIdPipeline"
   ]
  },
  {
   "cell_type": "code",
   "execution_count": 3,
   "id": "dc86ef8b",
   "metadata": {},
   "outputs": [
    {
     "name": "stdout",
     "output_type": "stream",
     "text": [
      "Dataset downloaded and extracted to: /Users/nhut/.cache/kagglehub/datasets/wildlifedatasets/seaturtleid2022/versions/4\n"
     ]
    }
   ],
   "source": [
    "# --- Pipeline parameters ---\n",
    "device = get_device()\n",
    "EMBEDDING_SIZE = 512\n",
    "\n",
    "\n",
    "# --- Transform parameters ---\n",
    "IMG_SIZE = 224\n",
    "\n",
    "\n",
    "# --- Datasets parameters ---\n",
    "DATA_DIR = './data/seaturtleid2022-subset'\n",
    "train_csv_path = os.path.join(DATA_DIR, \"metadata_closed_set_splits_train.csv\")\n",
    "eval_csv_path = os.path.join(DATA_DIR, \"metadata_closed_set_splits_valid.csv\")\n",
    "test_csv_path = os.path.join(DATA_DIR, \"metadata_closed_set_splits_test.csv\")\n",
    "datasets_paths = {\n",
    "    'train_csv_path': train_csv_path,\n",
    "    'eval_csv_path': eval_csv_path,\n",
    "    'test_csv_path': test_csv_path,\n",
    "}\n",
    "\n",
    "paths = download_dataset()\n",
    "img_dir=paths['images_path']\n",
    "\n",
    "annotations_path= f\"{DATA_DIR}/annotations.json\"\n",
    "\n",
    "\n",
    "# --- Training parameters ---\n",
    "BATCH_SIZE = 10\n",
    "LEARNING_RATE = 1e-4\n",
    "EPOCHS = 10\n",
    "\n",
    "model_dir = './models'\n",
    "Path(model_dir).mkdir(parents=True, exist_ok=True)\n",
    "\n",
    "\n",
    "train_configs = {\n",
    "    'batch_size': BATCH_SIZE,\n",
    "    'learning_rate': LEARNING_RATE,\n",
    "    'epochs': EPOCHS,\n",
    "    # 'model_save_path': model_save_path,\n",
    "    'k': 1\n",
    "}"
   ]
  },
  {
   "cell_type": "markdown",
   "id": "5eb7b0ff",
   "metadata": {},
   "source": [
    "### Whole turtle body"
   ]
  },
  {
   "cell_type": "code",
   "execution_count": null,
   "id": "313cb824",
   "metadata": {},
   "outputs": [
    {
     "name": "stdout",
     "output_type": "stream",
     "text": [
      "loading annotations into memory...\n",
      "Done (t=0.28s)\n",
      "creating index...\n",
      "index created!\n",
      "loading annotations into memory...\n",
      "Done (t=0.22s)\n",
      "creating index...\n",
      "index created!\n",
      "loading annotations into memory...\n",
      "Done (t=0.17s)\n",
      "creating index...\n",
      "index created!\n"
     ]
    }
   ],
   "source": [
    "turtle_pipeline = TurtleReIdPipeline(device, EMBEDDING_SIZE)\n",
    "turtle_pipeline.set_transforms(IMG_SIZE)\n",
    "turtle_pipeline.set_datasets(datasets_paths, img_dir, annotations_path)"
   ]
  },
  {
   "cell_type": "code",
   "execution_count": null,
   "id": "f4907d67",
   "metadata": {},
   "outputs": [
    {
     "data": {
      "application/vnd.jupyter.widget-view+json": {
       "model_id": "57ae1b22bf674bbd915f073df35d8294",
       "version_major": 2,
       "version_minor": 0
      },
      "text/plain": [
       "Epoch 1/10:   0%|          | 0/21 [00:00<?, ?it/s]"
      ]
     },
     "metadata": {},
     "output_type": "display_data"
    }
   ],
   "source": [
    "# --- Training Loop on All Parts ---\n",
    "turtle_configs = train_configs.copy()\n",
    "model_save_path = f'{model_dir}/04_parts_combination_closed_arcface_swimb.pth'\n",
    "turtle_configs['model_save_path'] = model_save_path\n",
    "turtle_configs['target_part'] = 'turtle'  # all parts (head, flipper, body)\n",
    "turtle_pipeline.train(turtle_configs)"
   ]
  },
  {
   "cell_type": "markdown",
   "id": "1d837dca",
   "metadata": {},
   "source": [
    "### Whole Turtle body with Trainable weights"
   ]
  },
  {
   "cell_type": "code",
   "execution_count": 4,
   "id": "46be4e61",
   "metadata": {},
   "outputs": [
    {
     "name": "stdout",
     "output_type": "stream",
     "text": [
      "loading annotations into memory...\n",
      "Done (t=0.25s)\n",
      "creating index...\n",
      "index created!\n",
      "loading annotations into memory...\n",
      "Done (t=0.18s)\n",
      "creating index...\n",
      "index created!\n",
      "loading annotations into memory...\n",
      "Done (t=0.16s)\n",
      "creating index...\n",
      "index created!\n"
     ]
    }
   ],
   "source": [
    "weights_pipeline = TurtleReIdPipeline(\n",
    "    device, EMBEDDING_SIZE, use_weighted_parts=True)\n",
    "weights_pipeline.set_transforms(IMG_SIZE)\n",
    "weights_pipeline.set_datasets(datasets_paths, img_dir, annotations_path)"
   ]
  },
  {
   "cell_type": "code",
   "execution_count": null,
   "id": "21071799",
   "metadata": {},
   "outputs": [
    {
     "data": {
      "application/vnd.jupyter.widget-view+json": {
       "model_id": "1f5a6e8ce5e647aa96a73f4949559c12",
       "version_major": 2,
       "version_minor": 0
      },
      "text/plain": [
       "Epoch 1/10:   0%|          | 0/21 [00:00<?, ?it/s]"
      ]
     },
     "metadata": {},
     "output_type": "display_data"
    },
    {
     "name": "stdout",
     "output_type": "stream",
     "text": [
      "Epoch 1/10, Loss: 16.9480, Eval Accuracy: 13.41%\n",
      "Saved best model.\n"
     ]
    },
    {
     "data": {
      "application/vnd.jupyter.widget-view+json": {
       "model_id": "6a21dafd239447bf8c7b8c39d73b0e7f",
       "version_major": 2,
       "version_minor": 0
      },
      "text/plain": [
       "Epoch 2/10:   0%|          | 0/21 [00:00<?, ?it/s]"
      ]
     },
     "metadata": {},
     "output_type": "display_data"
    },
    {
     "name": "stdout",
     "output_type": "stream",
     "text": [
      "Epoch 2/10, Loss: 15.8703, Eval Accuracy: 23.17%\n",
      "Saved best model.\n"
     ]
    },
    {
     "data": {
      "application/vnd.jupyter.widget-view+json": {
       "model_id": "690a85bd2d034fbd8a0f10af07df8274",
       "version_major": 2,
       "version_minor": 0
      },
      "text/plain": [
       "Epoch 3/10:   0%|          | 0/21 [00:00<?, ?it/s]"
      ]
     },
     "metadata": {},
     "output_type": "display_data"
    },
    {
     "name": "stdout",
     "output_type": "stream",
     "text": [
      "Epoch 3/10, Loss: 15.1458, Eval Accuracy: 32.93%\n",
      "Saved best model.\n"
     ]
    },
    {
     "data": {
      "application/vnd.jupyter.widget-view+json": {
       "model_id": "7754ea2b46a54c15a7bc9a9bd1028abd",
       "version_major": 2,
       "version_minor": 0
      },
      "text/plain": [
       "Epoch 4/10:   0%|          | 0/21 [00:00<?, ?it/s]"
      ]
     },
     "metadata": {},
     "output_type": "display_data"
    },
    {
     "name": "stdout",
     "output_type": "stream",
     "text": [
      "Epoch 4/10, Loss: 14.6701, Eval Accuracy: 36.59%\n",
      "Saved best model.\n"
     ]
    },
    {
     "data": {
      "application/vnd.jupyter.widget-view+json": {
       "model_id": "822c8084717740a9bf63f846af92d88b",
       "version_major": 2,
       "version_minor": 0
      },
      "text/plain": [
       "Epoch 5/10:   0%|          | 0/21 [00:00<?, ?it/s]"
      ]
     },
     "metadata": {},
     "output_type": "display_data"
    },
    {
     "name": "stdout",
     "output_type": "stream",
     "text": [
      "Epoch 5/10, Loss: 14.3935, Eval Accuracy: 30.49%\n"
     ]
    },
    {
     "data": {
      "application/vnd.jupyter.widget-view+json": {
       "model_id": "1f082c92633c4b29b709d52b0b6debd0",
       "version_major": 2,
       "version_minor": 0
      },
      "text/plain": [
       "Epoch 6/10:   0%|          | 0/21 [00:00<?, ?it/s]"
      ]
     },
     "metadata": {},
     "output_type": "display_data"
    },
    {
     "name": "stdout",
     "output_type": "stream",
     "text": [
      "Epoch 6/10, Loss: 13.8290, Eval Accuracy: 39.02%\n",
      "Saved best model.\n"
     ]
    },
    {
     "data": {
      "application/vnd.jupyter.widget-view+json": {
       "model_id": "18bbaffdcb5b4330b4778ce3fcceee29",
       "version_major": 2,
       "version_minor": 0
      },
      "text/plain": [
       "Epoch 7/10:   0%|          | 0/21 [00:00<?, ?it/s]"
      ]
     },
     "metadata": {},
     "output_type": "display_data"
    },
    {
     "name": "stdout",
     "output_type": "stream",
     "text": [
      "Epoch 7/10, Loss: 12.7762, Eval Accuracy: 46.34%\n",
      "Saved best model.\n"
     ]
    },
    {
     "data": {
      "application/vnd.jupyter.widget-view+json": {
       "model_id": "a3eb18b24f8b45a08e29b2957f86acd8",
       "version_major": 2,
       "version_minor": 0
      },
      "text/plain": [
       "Epoch 8/10:   0%|          | 0/21 [00:00<?, ?it/s]"
      ]
     },
     "metadata": {},
     "output_type": "display_data"
    },
    {
     "name": "stdout",
     "output_type": "stream",
     "text": [
      "Epoch 8/10, Loss: 12.2449, Eval Accuracy: 45.12%\n"
     ]
    },
    {
     "data": {
      "application/vnd.jupyter.widget-view+json": {
       "model_id": "50290438c22649b3a1c5cb0fe12c776d",
       "version_major": 2,
       "version_minor": 0
      },
      "text/plain": [
       "Epoch 9/10:   0%|          | 0/21 [00:00<?, ?it/s]"
      ]
     },
     "metadata": {},
     "output_type": "display_data"
    },
    {
     "name": "stdout",
     "output_type": "stream",
     "text": [
      "Epoch 9/10, Loss: 10.9753, Eval Accuracy: 42.68%\n"
     ]
    },
    {
     "data": {
      "application/vnd.jupyter.widget-view+json": {
       "model_id": "5ca72cc4ec964b3c84a63f6b20e6c8c1",
       "version_major": 2,
       "version_minor": 0
      },
      "text/plain": [
       "Epoch 10/10:   0%|          | 0/21 [00:00<?, ?it/s]"
      ]
     },
     "metadata": {},
     "output_type": "display_data"
    },
    {
     "name": "stdout",
     "output_type": "stream",
     "text": [
      "Epoch 10/10, Loss: 10.3774, Eval Accuracy: 42.68%\n",
      "Finished Training. Best Test Accuracy: 46.34%\n"
     ]
    }
   ],
   "source": [
    "# --- Training Loop on WEIGHTED Parts ---\n",
    "weights_configs = train_configs.copy()\n",
    "model_save_path = f'{model_dir}/04_weighted_parts_combination_closed_arcface_swimb.pth'\n",
    "weights_configs['model_save_path'] = model_save_path\n",
    "weights_configs['target_part'] = 'weighted_parts'  # trainable weights parts\n",
    "weights_pipeline.train(weights_configs)"
   ]
  }
 ],
 "metadata": {
  "kernelspec": {
   "display_name": "dl",
   "language": "python",
   "name": "python3"
  },
  "language_info": {
   "codemirror_mode": {
    "name": "ipython",
    "version": 3
   },
   "file_extension": ".py",
   "mimetype": "text/x-python",
   "name": "python",
   "nbconvert_exporter": "python",
   "pygments_lexer": "ipython3",
   "version": "3.13.9"
  }
 },
 "nbformat": 4,
 "nbformat_minor": 5
}
